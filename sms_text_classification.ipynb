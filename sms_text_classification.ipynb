{
  "cells": [
    {
      "cell_type": "code",
      "execution_count": null,
      "metadata": {
        "id": "8RZOuS9LWQvv"
      },
      "outputs": [],
      "source": [
        "# import libraries\n",
        "import tensorflow as tf\n",
        "from tensorflow import keras\n",
        "import pandas as pd\n",
        "import numpy as np\n",
        "from tensorflow.keras.layers import TextVectorization\n",
        "import matplotlib.pyplot as plt\n",
        "print(tf.__version__)"
      ]
    },
    {
      "cell_type": "code",
      "execution_count": null,
      "metadata": {
        "id": "lMHwYXHXCar3"
      },
      "outputs": [],
      "source": [
        "# get data files\n",
        "!wget https://cdn.freecodecamp.org/project-data/sms/train-data.tsv\n",
        "!wget https://cdn.freecodecamp.org/project-data/sms/valid-data.tsv\n",
        "\n",
        "# Load the datasets\n",
        "train_df = pd.read_csv(\"train-data.tsv\", sep='\\t', header=None, names=['label', 'text'])\n",
        "test_df = pd.read_csv(\"valid-data.tsv\", sep='\\t', header=None, names=['label', 'text'])\n",
        "\n",
        "# Map labels to integers: ham=0, spam=1\n",
        "label_map = {'ham': 0, 'spam': 1}\n",
        "train_df['label'] = train_df['label'].map(label_map)\n",
        "test_df['label'] = test_df['label'].map(label_map)"
      ]
    },
    {
      "cell_type": "code",
      "execution_count": null,
      "metadata": {
        "id": "g_h508FEClxO"
      },
      "outputs": [],
      "source": [
        "# Extract text and labels\n",
        "# Clean empty strings\n",
        "train_df = train_df[train_df['text'].str.strip().astype(bool)]\n",
        "test_df = test_df[test_df['text'].str.strip().astype(bool)]\n",
        "\n",
        "train_texts = train_df['text'].values\n",
        "train_labels = train_df['label'].values.astype(int)\n",
        "test_texts = test_df['text'].values\n",
        "test_labels = test_df['label'].values.astype(int)\n",
        "\n",
        "\n",
        "# Set hyperparameters for vectorization\n",
        "max_vocab_size = 10000\n",
        "max_sequence_length = 100\n",
        "\n",
        "vectorizer = TextVectorization(max_tokens=max_vocab_size, output_mode='int', output_sequence_length=max_sequence_length)\n",
        "vectorizer.adapt(train_texts)\n",
        "\n",
        "model = keras.Sequential([\n",
        "    vectorizer,\n",
        "    keras.layers.Embedding(input_dim=max_vocab_size, output_dim=64),  # removed mask_zero=True\n",
        "    keras.layers.GlobalAveragePooling1D(),\n",
        "    keras.layers.Dense(64, activation='relu'),\n",
        "    keras.layers.Dense(1, activation='sigmoid')\n",
        "])\n",
        "\n",
        "model.compile(optimizer=keras.optimizers.Adam(learning_rate=1e-3), loss='binary_crossentropy', metrics=['accuracy'])\n",
        "\n",
        "model.fit(train_texts, train_labels, epochs=10, validation_data=(test_texts, test_labels))"
      ]
    },
    {
      "cell_type": "code",
      "execution_count": null,
      "metadata": {
        "id": "J9tD9yACG6M9"
      },
      "outputs": [],
      "source": [
        "# function to predict messages based on model\n",
        "# (should return list containing prediction and label, ex. [0.008318834938108921, 'ham'])\n",
        "def predict_message(pred_text):\n",
        "    inputs = tf.constant([pred_text])\n",
        "    spam_prob = float(model.predict(inputs)[0][0])\n",
        "    label = \"spam\" if spam_prob > 0.5 else \"ham\"\n",
        "    return [spam_prob, label]\n",
        "\n",
        "pred_text = \"how are you doing today?\"\n",
        "prediction = predict_message(pred_text)\n",
        "print(prediction)"
      ]
    },
    {
      "cell_type": "code",
      "execution_count": null,
      "metadata": {
        "id": "Dxotov85SjsC"
      },
      "outputs": [],
      "source": [
        "# Run this cell to test your function and model. Do not modify contents.\n",
        "def test_predictions():\n",
        "  test_messages = [\"how are you doing today\",\n",
        "                   \"sale today! to stop texts call 98912460324\",\n",
        "                   \"i dont want to go. can we try it a different day? available sat\",\n",
        "                   \"our new mobile video service is live. just install on your phone to start watching.\",\n",
        "                   \"you have won £1000 cash! call to claim your prize.\",\n",
        "                   \"i'll bring it tomorrow. don't forget the milk.\",\n",
        "                   \"wow, is your arm alright. that happened to me one time too\"\n",
        "                  ]\n",
        "\n",
        "  test_answers = [\"ham\", \"spam\", \"ham\", \"spam\", \"spam\", \"ham\", \"ham\"]\n",
        "  passed = True\n",
        "\n",
        "  for msg, ans in zip(test_messages, test_answers):\n",
        "    prediction = predict_message(msg)\n",
        "    if prediction[1] != ans:\n",
        "      passed = False\n",
        "\n",
        "  if passed:\n",
        "    print(\"You passed the challenge. Great job!\")\n",
        "  else:\n",
        "    print(\"You haven't passed yet. Keep trying.\")\n",
        "\n",
        "test_predictions()\n"
      ]
    }
  ],
  "metadata": {
    "colab": {
      "name": "fcc_sms_text_classification.ipynb",
      "private_outputs": true,
      "provenance": [],
      "toc_visible": true
    },
    "kernelspec": {
      "display_name": "Python 3",
      "name": "python3"
    },
    "language_info": {}
  },
  "nbformat": 4,
  "nbformat_minor": 0
}